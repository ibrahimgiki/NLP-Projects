{
  "cells": [
    {
      "cell_type": "markdown",
      "source": [
        "In this colab we are importing a Dataset from Kaggle and training our model using Word2Vec. Then we test our model with some sample text to predict the output."
      ],
      "metadata": {
        "id": "w9LNAZMC4AYv"
      }
    },
    {
      "cell_type": "markdown",
      "metadata": {
        "id": "s9aFijNKVGe5"
      },
      "source": [
        "# Importing libraries"
      ]
    },
    {
      "cell_type": "code",
      "execution_count": null,
      "metadata": {
        "colab": {
          "base_uri": "https://localhost:8080/"
        },
        "id": "9-uTgsH9VKz3",
        "outputId": "9509e384-4c64-404b-edfc-0517fa4c9311"
      },
      "outputs": [
        {
          "name": "stdout",
          "output_type": "stream",
          "text": [
            "2.14.0\n"
          ]
        }
      ],
      "source": [
        "import tensorflow as tf\n",
        "print(tf.__version__)"
      ]
    },
    {
      "cell_type": "code",
      "execution_count": null,
      "metadata": {
        "colab": {
          "base_uri": "https://localhost:8080/"
        },
        "id": "PBx3nqZ9w0ik",
        "outputId": "9e6b5a57-a119-48b7-fa05-f836090426e4"
      },
      "outputs": [
        {
          "name": "stderr",
          "output_type": "stream",
          "text": [
            "[nltk_data] Downloading package punkt to /root/nltk_data...\n",
            "[nltk_data]   Package punkt is already up-to-date!\n"
          ]
        },
        {
          "data": {
            "text/plain": [
              "True"
            ]
          },
          "execution_count": 41,
          "metadata": {},
          "output_type": "execute_result"
        }
      ],
      "source": [
        "import nltk\n",
        "nltk.download('punkt')"
      ]
    },
    {
      "cell_type": "code",
      "execution_count": null,
      "metadata": {
        "id": "MTqE2vqrxC0y"
      },
      "outputs": [],
      "source": [
        "import nltk\n",
        "import pandas as pd\n",
        "import gensim\n",
        "from gensim.models import Word2Vec, KeyedVectors"
      ]
    },
    {
      "cell_type": "markdown",
      "metadata": {
        "id": "WBHur0JK3-qd"
      },
      "source": [
        "# Importing data from kaggle"
      ]
    },
    {
      "cell_type": "code",
      "execution_count": null,
      "metadata": {
        "id": "x7F9PfNWyh7l"
      },
      "outputs": [],
      "source": [
        "! pip install -q kaggle"
      ]
    },
    {
      "cell_type": "code",
      "execution_count": null,
      "metadata": {
        "colab": {
          "base_uri": "https://localhost:8080/"
        },
        "id": "uWbEMticyiF7",
        "outputId": "622c335a-86d3-496e-fece-7d16e77f438d"
      },
      "outputs": [
        {
          "name": "stdout",
          "output_type": "stream",
          "text": [
            "mkdir: cannot create directory ‘/root/.kaggle’: File exists\n"
          ]
        }
      ],
      "source": [
        "! mkdir ~/.kaggle"
      ]
    },
    {
      "cell_type": "code",
      "execution_count": null,
      "metadata": {
        "id": "BlddEyeez65L"
      },
      "outputs": [],
      "source": [
        "! cp kaggle.json ~/.kaggle"
      ]
    },
    {
      "cell_type": "code",
      "execution_count": null,
      "metadata": {
        "id": "v-PZaIvXz68L"
      },
      "outputs": [],
      "source": [
        "! chmod 600 /root/.kaggle/kaggle.json"
      ]
    },
    {
      "cell_type": "code",
      "execution_count": null,
      "metadata": {
        "colab": {
          "base_uri": "https://localhost:8080/"
        },
        "id": "uij5Lc1mz6-m",
        "outputId": "bff11305-43c8-4fce-a7ac-4eb584bbfaf2"
      },
      "outputs": [
        {
          "name": "stdout",
          "output_type": "stream",
          "text": [
            "worldnews-on-reddit.zip: Skipping, found more recently modified local copy (use --force to force download)\n"
          ]
        }
      ],
      "source": [
        "! kaggle datasets download -d rootuser/worldnews-on-reddit"
      ]
    },
    {
      "cell_type": "code",
      "execution_count": null,
      "metadata": {
        "colab": {
          "background_save": true,
          "base_uri": "https://localhost:8080/"
        },
        "id": "LY-7VqNC1Ood",
        "outputId": "7ee9476e-c32a-49ec-da99-0ed0b11aab2b"
      },
      "outputs": [
        {
          "name": "stdout",
          "output_type": "stream",
          "text": [
            "Archive:  /content/worldnews-on-reddit.zip\n",
            "replace reddit_worldnews_start_to_2016-11-22.csv? [y]es, [n]o, [A]ll, [N]one, [r]ename: "
          ]
        }
      ],
      "source": [
        "! unzip /content/worldnews-on-reddit"
      ]
    },
    {
      "cell_type": "code",
      "execution_count": null,
      "metadata": {
        "id": "gr_pY0wP1OrY"
      },
      "outputs": [],
      "source": [
        "df = pd.read_csv('/content/reddit_worldnews_start_to_2016-11-22.csv')"
      ]
    },
    {
      "cell_type": "code",
      "execution_count": null,
      "metadata": {
        "id": "ymIOJrek1Oub"
      },
      "outputs": [],
      "source": [
        "df.head()"
      ]
    },
    {
      "cell_type": "code",
      "execution_count": null,
      "metadata": {
        "id": "6Z5rkvjJ1OxX"
      },
      "outputs": [],
      "source": [
        "df.shape"
      ]
    },
    {
      "cell_type": "markdown",
      "metadata": {
        "id": "PUS_f0A34MPN"
      },
      "source": [
        "# Preprocessing the data"
      ]
    },
    {
      "cell_type": "code",
      "execution_count": null,
      "metadata": {
        "id": "JlIOoDG31O0_"
      },
      "outputs": [],
      "source": [
        "news_titles = df['title'].values"
      ]
    },
    {
      "cell_type": "code",
      "execution_count": null,
      "metadata": {
        "id": "4XjckkIM2z6I"
      },
      "outputs": [],
      "source": [
        "news_titles[:5]"
      ]
    },
    {
      "cell_type": "code",
      "execution_count": null,
      "metadata": {
        "id": "T9_7GclZ2z9U"
      },
      "outputs": [],
      "source": [
        "new_vec = [nltk.word_tokenize(title) for title in news_titles]"
      ]
    },
    {
      "cell_type": "code",
      "execution_count": null,
      "metadata": {
        "id": "mqAm3s-L20AI"
      },
      "outputs": [],
      "source": [
        "new_vec[:3]"
      ]
    },
    {
      "cell_type": "markdown",
      "metadata": {
        "id": "9I49UI0W4Snk"
      },
      "source": [
        "# Build the model"
      ]
    },
    {
      "cell_type": "code",
      "execution_count": null,
      "metadata": {
        "id": "6T3Re4Cx20Ci"
      },
      "outputs": [],
      "source": [
        "model = Word2Vec(new_vec, min_count=1, vector_size=32)"
      ]
    },
    {
      "cell_type": "code",
      "execution_count": null,
      "metadata": {
        "id": "FkNsNsat6AWb"
      },
      "outputs": [],
      "source": [
        "model"
      ]
    },
    {
      "cell_type": "markdown",
      "metadata": {
        "id": "LpWPkCUV6ChM"
      },
      "source": [
        "# Predict the output"
      ]
    },
    {
      "cell_type": "code",
      "execution_count": null,
      "metadata": {
        "id": "UMOXmYCC6FkE"
      },
      "outputs": [],
      "source": [
        "model.wv.most_similar('man')"
      ]
    },
    {
      "cell_type": "code",
      "execution_count": null,
      "metadata": {
        "id": "RSWnG_oV6Fml"
      },
      "outputs": [],
      "source": [
        "model.wv['man']"
      ]
    },
    {
      "cell_type": "code",
      "execution_count": null,
      "metadata": {
        "id": "usj5B4W36FpI"
      },
      "outputs": [],
      "source": [
        "model.wv.most_similar('france')"
      ]
    },
    {
      "cell_type": "code",
      "execution_count": null,
      "metadata": {
        "id": "YKlqx32Y7Zkh"
      },
      "outputs": [],
      "source": [
        "vec = model.wv['king'] - model.wv['man'] + model.wv['woman']\n",
        "model.wv.most_similar([vec])"
      ]
    },
    {
      "cell_type": "code",
      "execution_count": null,
      "metadata": {
        "id": "TDEU2Kqg71Ah"
      },
      "outputs": [],
      "source": [
        "vec = model.wv['Germany'] - model.wv['Berlin'] + model.wv['Paris']\n",
        "model.wv.most_similar([vec])"
      ]
    },
    {
      "cell_type": "code",
      "execution_count": null,
      "metadata": {
        "id": "07KHbaJ371DR"
      },
      "outputs": [],
      "source": [
        "vec = model.wv['Messi'] - model.wv['Football'] + model.wv['Cricket']\n",
        "model.wv.most_similar([vec])"
      ]
    }
  ],
  "metadata": {
    "colab": {
      "provenance": [],
      "authorship_tag": "ABX9TyOXBoRXQv9bKzQ1xzhb9izH"
    },
    "kernelspec": {
      "display_name": "Python 3",
      "name": "python3"
    },
    "language_info": {
      "name": "python"
    }
  },
  "nbformat": 4,
  "nbformat_minor": 0
}