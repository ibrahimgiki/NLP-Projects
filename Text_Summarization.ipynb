{
  "nbformat": 4,
  "nbformat_minor": 0,
  "metadata": {
    "colab": {
      "provenance": [],
      "toc_visible": true,
      "authorship_tag": "ABX9TyN6pqvlLRlnyedsGIIdKHy5"
    },
    "kernelspec": {
      "name": "python3",
      "display_name": "Python 3"
    },
    "language_info": {
      "name": "python"
    }
  },
  "cells": [
    {
      "cell_type": "markdown",
      "source": [
        "# Text Summarization"
      ],
      "metadata": {
        "id": "EeLxD0-dagyN"
      }
    },
    {
      "cell_type": "code",
      "source": [
        "text = \"\"\"\n",
        "this is ibrahim, learning nlp. My target is to complete by the end of this month.\n",
        "Moreover, I will also keep practicing python. We have very limited time frame\n",
        "to complete all this stuff. Also, new courses are in the pipiline.\n",
        "\"\"\""
      ],
      "metadata": {
        "id": "b3e9RhYDakrw"
      },
      "execution_count": null,
      "outputs": []
    },
    {
      "cell_type": "code",
      "source": [
        "len(text)"
      ],
      "metadata": {
        "colab": {
          "base_uri": "https://localhost:8080/"
        },
        "id": "JlYQ-FINakuw",
        "outputId": "2118830e-93c3-4000-d82f-c417213bebcd"
      },
      "execution_count": null,
      "outputs": [
        {
          "output_type": "execute_result",
          "data": {
            "text/plain": [
              "228"
            ]
          },
          "metadata": {},
          "execution_count": 109
        }
      ]
    },
    {
      "cell_type": "code",
      "source": [
        "import spacy\n",
        "from spacy.lang.en.stop_words import STOP_WORDS\n",
        "from string import punctuation"
      ],
      "metadata": {
        "id": "XZInXa9lbpyx"
      },
      "execution_count": null,
      "outputs": []
    },
    {
      "cell_type": "code",
      "source": [
        "nlp = spacy.load('en_core_web_sm')"
      ],
      "metadata": {
        "id": "VLk1LvgWbp2q"
      },
      "execution_count": null,
      "outputs": []
    },
    {
      "cell_type": "code",
      "source": [
        "doc = nlp(text)"
      ],
      "metadata": {
        "id": "FxHwDnSZbqA2"
      },
      "execution_count": null,
      "outputs": []
    },
    {
      "cell_type": "code",
      "source": [
        "tokens = [token.text for token in doc]\n",
        "print(tokens)"
      ],
      "metadata": {
        "colab": {
          "base_uri": "https://localhost:8080/"
        },
        "id": "Y2sYa0UVbqGN",
        "outputId": "0ebf12b5-be1f-4fe7-ded4-03a01bfe6d1a"
      },
      "execution_count": null,
      "outputs": [
        {
          "output_type": "stream",
          "name": "stdout",
          "text": [
            "['\\n', 'this', 'is', 'ibrahim', ',', 'learning', 'nlp', '.', 'My', 'target', 'is', 'to', 'complete', 'by', 'the', 'end', 'of', 'this', 'month', '.', '\\n', 'Moreover', ',', 'I', 'will', 'also', 'keep', 'practicing', 'python', '.', 'We', 'have', 'very', 'limited', 'time', 'frame', '\\n', 'to', 'complete', 'all', 'this', 'stuff', '.', 'Also', ',', 'new', 'courses', 'are', 'in', 'the', 'pipiline', '.', '\\n']\n"
          ]
        }
      ]
    },
    {
      "cell_type": "code",
      "source": [
        "punctuation = punctuation + '\\n'"
      ],
      "metadata": {
        "id": "l9PR32z7dXQY"
      },
      "execution_count": null,
      "outputs": []
    },
    {
      "cell_type": "code",
      "source": [
        "punctuation"
      ],
      "metadata": {
        "colab": {
          "base_uri": "https://localhost:8080/",
          "height": 35
        },
        "id": "_Qxjj6grdXTf",
        "outputId": "4df28079-fd1c-4964-c75e-d14aae5eeb5b"
      },
      "execution_count": null,
      "outputs": [
        {
          "output_type": "execute_result",
          "data": {
            "text/plain": [
              "'!\"#$%&\\'()*+,-./:;<=>?@[\\\\]^_`{|}~\\n'"
            ],
            "application/vnd.google.colaboratory.intrinsic+json": {
              "type": "string"
            }
          },
          "metadata": {},
          "execution_count": 115
        }
      ]
    },
    {
      "cell_type": "markdown",
      "source": [
        "# Text Cleaning"
      ],
      "metadata": {
        "id": "7wQ2D_9eeLs3"
      }
    },
    {
      "cell_type": "code",
      "source": [
        "word_freq= {}\n",
        "stop_words = list(STOP_WORDS)\n",
        "\n",
        "for word in doc:\n",
        "  if word.text.lower() not in stop_words:\n",
        "    if word.text.lower() not in punctuation:\n",
        "      if word.text not in word_freq.keys():\n",
        "         word_freq[word.text] = 1\n",
        "      else:\n",
        "         word_freq[word.text] +=1"
      ],
      "metadata": {
        "id": "TG1rq6h6dXWv"
      },
      "execution_count": null,
      "outputs": []
    },
    {
      "cell_type": "code",
      "source": [
        "print(word_freq)"
      ],
      "metadata": {
        "colab": {
          "base_uri": "https://localhost:8080/"
        },
        "id": "lTyWRNXTtZKt",
        "outputId": "be28eda2-42c1-40a2-991f-502619824fa3"
      },
      "execution_count": null,
      "outputs": [
        {
          "output_type": "stream",
          "name": "stdout",
          "text": [
            "{'ibrahim': 1, 'learning': 1, 'nlp': 1, 'target': 1, 'complete': 2, 'end': 1, 'month': 1, 'practicing': 1, 'python': 1, 'limited': 1, 'time': 1, 'frame': 1, 'stuff': 1, 'new': 1, 'courses': 1, 'pipiline': 1}\n"
          ]
        }
      ]
    },
    {
      "cell_type": "code",
      "source": [
        "max_freq = max(word_freq.values())"
      ],
      "metadata": {
        "id": "OjAq8rFGtZOI"
      },
      "execution_count": null,
      "outputs": []
    },
    {
      "cell_type": "code",
      "source": [
        "max_freq"
      ],
      "metadata": {
        "colab": {
          "base_uri": "https://localhost:8080/"
        },
        "id": "WnKnNzpPtZQ0",
        "outputId": "532597d7-d500-42f8-c263-b7290f8b22e7"
      },
      "execution_count": null,
      "outputs": [
        {
          "output_type": "execute_result",
          "data": {
            "text/plain": [
              "2"
            ]
          },
          "metadata": {},
          "execution_count": 119
        }
      ]
    },
    {
      "cell_type": "code",
      "source": [
        "for word in word_freq.keys():\n",
        "  word_freq[word] = word_freq[word] / max_freq"
      ],
      "metadata": {
        "id": "j08u9waQdXZw"
      },
      "execution_count": null,
      "outputs": []
    },
    {
      "cell_type": "code",
      "source": [
        "print(word_freq)"
      ],
      "metadata": {
        "colab": {
          "base_uri": "https://localhost:8080/"
        },
        "id": "inom3znKurnj",
        "outputId": "a0cf9eda-ebf1-4d64-c2ae-6e2cbb904986"
      },
      "execution_count": null,
      "outputs": [
        {
          "output_type": "stream",
          "name": "stdout",
          "text": [
            "{'ibrahim': 0.5, 'learning': 0.5, 'nlp': 0.5, 'target': 0.5, 'complete': 1.0, 'end': 0.5, 'month': 0.5, 'practicing': 0.5, 'python': 0.5, 'limited': 0.5, 'time': 0.5, 'frame': 0.5, 'stuff': 0.5, 'new': 0.5, 'courses': 0.5, 'pipiline': 0.5}\n"
          ]
        }
      ]
    },
    {
      "cell_type": "markdown",
      "source": [
        "# Sentence Tokenization"
      ],
      "metadata": {
        "id": "tfaXcYCJuxUZ"
      }
    },
    {
      "cell_type": "code",
      "source": [
        "sent_tokens = [sent for sent in doc.sents]\n",
        "#print(sent_tokens)"
      ],
      "metadata": {
        "id": "aKzfYHKcu1Nx"
      },
      "execution_count": null,
      "outputs": []
    },
    {
      "cell_type": "code",
      "source": [
        "sent_score = {}"
      ],
      "metadata": {
        "id": "gMLS7B2fu1Qx"
      },
      "execution_count": null,
      "outputs": []
    },
    {
      "cell_type": "code",
      "source": [
        "for sent in sent_tokens:\n",
        "  for word in sent:\n",
        "    if word.text.lower() in word_freq.keys():\n",
        "      if sent not in sent_score.keys():\n",
        "        sent_score[sent] = word_freq[word.text.lower()]\n",
        "      else:\n",
        "        sent_score[sent] += word_freq[word.text.lower()]\n"
      ],
      "metadata": {
        "id": "PGjvvDj8u1Th"
      },
      "execution_count": null,
      "outputs": []
    },
    {
      "cell_type": "code",
      "source": [
        "print(sent_score)"
      ],
      "metadata": {
        "colab": {
          "base_uri": "https://localhost:8080/"
        },
        "id": "yznKP0z5_Ux3",
        "outputId": "bb33e4af-02fa-4ba9-f518-0df0c22fd9c2"
      },
      "execution_count": null,
      "outputs": [
        {
          "output_type": "stream",
          "name": "stdout",
          "text": [
            "{\n",
            "this is ibrahim, learning nlp.: 1.5, My target is to complete by the end of this month.\n",
            ": 2.5, Moreover, I will also keep practicing python.: 1.0, We have very limited time frame\n",
            "to complete all this stuff.: 3.0, Also, new courses are in the pipiline.\n",
            ": 1.5}\n"
          ]
        }
      ]
    },
    {
      "cell_type": "markdown",
      "source": [
        "# Select 30% Sentences with Maximum Score"
      ],
      "metadata": {
        "id": "znTyUbga_naC"
      }
    },
    {
      "cell_type": "code",
      "source": [
        "from heapq import nlargest"
      ],
      "metadata": {
        "id": "ck0x_YWA_xbT"
      },
      "execution_count": null,
      "outputs": []
    },
    {
      "cell_type": "code",
      "source": [
        "summary = nlargest(n=3, iterable=sent_score, key=sent_score.get)"
      ],
      "metadata": {
        "id": "o7V8d2uw_xd7"
      },
      "execution_count": null,
      "outputs": []
    },
    {
      "cell_type": "code",
      "source": [
        "print(summary)"
      ],
      "metadata": {
        "colab": {
          "base_uri": "https://localhost:8080/"
        },
        "id": "_AOvGIphA2UY",
        "outputId": "20f16f8a-d1ec-4097-cf36-ded7cc27c682"
      },
      "execution_count": null,
      "outputs": [
        {
          "output_type": "stream",
          "name": "stdout",
          "text": [
            "[We have very limited time frame\n",
            "to complete all this stuff., My target is to complete by the end of this month.\n",
            ", \n",
            "this is ibrahim, learning nlp.]\n"
          ]
        }
      ]
    },
    {
      "cell_type": "code",
      "source": [
        "final_summary = [word.text for word in summary]"
      ],
      "metadata": {
        "id": "9vJKafbqBF_g"
      },
      "execution_count": null,
      "outputs": []
    },
    {
      "cell_type": "code",
      "source": [
        "print(final_summary)"
      ],
      "metadata": {
        "colab": {
          "base_uri": "https://localhost:8080/"
        },
        "id": "b42zHmUMBNFy",
        "outputId": "41e754e3-9955-4252-aff3-bdef2ce9cf13"
      },
      "execution_count": null,
      "outputs": [
        {
          "output_type": "stream",
          "name": "stdout",
          "text": [
            "['We have very limited time frame\\nto complete all this stuff.', 'My target is to complete by the end of this month.\\n', '\\nthis is ibrahim, learning nlp.']\n"
          ]
        }
      ]
    },
    {
      "cell_type": "code",
      "source": [
        "summary = \" \".join(final_summary)"
      ],
      "metadata": {
        "id": "KdC3bVUTBX2O"
      },
      "execution_count": null,
      "outputs": []
    },
    {
      "cell_type": "code",
      "source": [
        "summary"
      ],
      "metadata": {
        "id": "7KYigi9VBnmq",
        "outputId": "f982d5b2-301e-4b33-b327-8066e8354622",
        "colab": {
          "base_uri": "https://localhost:8080/",
          "height": 52
        }
      },
      "execution_count": null,
      "outputs": [
        {
          "output_type": "execute_result",
          "data": {
            "text/plain": [
              "'We have very limited time frame\\nto complete all this stuff. My target is to complete by the end of this month.\\n \\nthis is ibrahim, learning nlp.'"
            ],
            "application/vnd.google.colaboratory.intrinsic+json": {
              "type": "string"
            }
          },
          "metadata": {},
          "execution_count": 139
        }
      ]
    }
  ]
}