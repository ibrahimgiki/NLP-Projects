{
  "nbformat": 4,
  "nbformat_minor": 0,
  "metadata": {
    "colab": {
      "provenance": [],
      "authorship_tag": "ABX9TyPnnqQzQaqTMDJ0uvI9K6JN"
    },
    "kernelspec": {
      "name": "python3",
      "display_name": "Python 3"
    },
    "language_info": {
      "name": "python"
    }
  },
  "cells": [
    {
      "cell_type": "markdown",
      "source": [
        "# Importing libraries"
      ],
      "metadata": {
        "id": "s9aFijNKVGe5"
      }
    },
    {
      "cell_type": "code",
      "source": [
        "import tensorflow as tf\n",
        "print(tf.__version__)"
      ],
      "metadata": {
        "id": "9-uTgsH9VKz3",
        "colab": {
          "base_uri": "https://localhost:8080/"
        },
        "outputId": "22393960-fd58-43bc-e4b0-8598eb62f5b0"
      },
      "execution_count": null,
      "outputs": [
        {
          "output_type": "stream",
          "name": "stdout",
          "text": [
            "2.14.0\n"
          ]
        }
      ]
    },
    {
      "cell_type": "code",
      "source": [
        "import nltk\n",
        "nltk.download('punkt')"
      ],
      "metadata": {
        "colab": {
          "base_uri": "https://localhost:8080/"
        },
        "id": "PBx3nqZ9w0ik",
        "outputId": "f0177a16-b454-4713-d3fc-fa25424b01e5"
      },
      "execution_count": null,
      "outputs": [
        {
          "output_type": "stream",
          "name": "stderr",
          "text": [
            "[nltk_data] Downloading package punkt to /root/nltk_data...\n",
            "[nltk_data]   Unzipping tokenizers/punkt.zip.\n"
          ]
        },
        {
          "output_type": "execute_result",
          "data": {
            "text/plain": [
              "True"
            ]
          },
          "metadata": {},
          "execution_count": 2
        }
      ]
    },
    {
      "cell_type": "code",
      "source": [
        "import nltk\n",
        "import pandas as pd\n",
        "import gensim\n",
        "from gensim.models import Word2Vec, KeyedVectors"
      ],
      "metadata": {
        "id": "MTqE2vqrxC0y"
      },
      "execution_count": null,
      "outputs": []
    },
    {
      "cell_type": "markdown",
      "source": [
        "# Data preprocessing"
      ],
      "metadata": {
        "id": "WBHur0JK3-qd"
      }
    },
    {
      "cell_type": "code",
      "source": [
        "! pip install -q kaggle"
      ],
      "metadata": {
        "id": "x7F9PfNWyh7l"
      },
      "execution_count": null,
      "outputs": []
    },
    {
      "cell_type": "code",
      "source": [
        "! mkdir ~/.kaggle"
      ],
      "metadata": {
        "id": "uWbEMticyiF7"
      },
      "execution_count": null,
      "outputs": []
    },
    {
      "cell_type": "code",
      "source": [
        "! cp kaggle.json ~/.kaggle"
      ],
      "metadata": {
        "id": "BlddEyeez65L"
      },
      "execution_count": null,
      "outputs": []
    },
    {
      "cell_type": "code",
      "source": [
        "! chmod 600 /root/.kaggle/kaggle.json"
      ],
      "metadata": {
        "id": "v-PZaIvXz68L"
      },
      "execution_count": null,
      "outputs": []
    },
    {
      "cell_type": "code",
      "source": [
        "! kaggle datasets download -d umbertogriffo/googles-trained-word2vec-model-in-python"
      ],
      "metadata": {
        "colab": {
          "base_uri": "https://localhost:8080/"
        },
        "id": "uij5Lc1mz6-m",
        "outputId": "509aa365-88dd-40ff-96a5-4941dfa2621c"
      },
      "execution_count": null,
      "outputs": [
        {
          "output_type": "stream",
          "name": "stdout",
          "text": [
            "Downloading googles-trained-word2vec-model-in-python.zip to /content\n",
            "100% 3.17G/3.17G [00:35<00:00, 104MB/s]\n",
            "100% 3.17G/3.17G [00:35<00:00, 97.0MB/s]\n"
          ]
        }
      ]
    },
    {
      "cell_type": "code",
      "source": [
        "! unzip /content/googles-trained-word2vec-model-in-python"
      ],
      "metadata": {
        "colab": {
          "base_uri": "https://localhost:8080/"
        },
        "id": "LY-7VqNC1Ood",
        "outputId": "7ed8df0a-3e20-4208-b928-f7fcf7b2489c"
      },
      "execution_count": null,
      "outputs": [
        {
          "output_type": "stream",
          "name": "stdout",
          "text": [
            "Archive:  /content/googles-trained-word2vec-model-in-python.zip\n",
            "  inflating: GoogleNews-vectors-negative300.bin  \n",
            "  inflating: GoogleNews-vectors-negative300.bin.gz  \n"
          ]
        }
      ]
    },
    {
      "cell_type": "markdown",
      "source": [
        "# Build the model"
      ],
      "metadata": {
        "id": "9I49UI0W4Snk"
      }
    },
    {
      "cell_type": "code",
      "source": [
        "model = KeyedVectors.load_word2vec_format('/content/GoogleNews-vectors-negative300.bin', binary=True, limit=100000)"
      ],
      "metadata": {
        "id": "6T3Re4Cx20Ci"
      },
      "execution_count": null,
      "outputs": []
    },
    {
      "cell_type": "code",
      "source": [
        "model"
      ],
      "metadata": {
        "colab": {
          "base_uri": "https://localhost:8080/"
        },
        "id": "FkNsNsat6AWb",
        "outputId": "0325d306-4562-44f1-e42d-b4adb8d4f261"
      },
      "execution_count": null,
      "outputs": [
        {
          "output_type": "execute_result",
          "data": {
            "text/plain": [
              "<gensim.models.keyedvectors.KeyedVectors at 0x7d75f3f897b0>"
            ]
          },
          "metadata": {},
          "execution_count": 12
        }
      ]
    },
    {
      "cell_type": "markdown",
      "source": [
        "# Predict the output"
      ],
      "metadata": {
        "id": "LpWPkCUV6ChM"
      }
    },
    {
      "cell_type": "code",
      "source": [
        "model.most_similar('man')"
      ],
      "metadata": {
        "colab": {
          "base_uri": "https://localhost:8080/"
        },
        "id": "UMOXmYCC6FkE",
        "outputId": "97a5b6aa-f283-49df-ae36-961913920cff"
      },
      "execution_count": null,
      "outputs": [
        {
          "output_type": "execute_result",
          "data": {
            "text/plain": [
              "[('woman', 0.7664012908935547),\n",
              " ('boy', 0.6824871301651001),\n",
              " ('teenager', 0.6586930155754089),\n",
              " ('teenage_girl', 0.6147903203964233),\n",
              " ('girl', 0.5921714305877686),\n",
              " ('robber', 0.5585119128227234),\n",
              " ('teen_ager', 0.5549196600914001),\n",
              " ('men', 0.5489763021469116),\n",
              " ('guy', 0.5420035123825073),\n",
              " ('person', 0.5342026352882385)]"
            ]
          },
          "metadata": {},
          "execution_count": 16
        }
      ]
    },
    {
      "cell_type": "code",
      "source": [
        "len(model['man'])"
      ],
      "metadata": {
        "colab": {
          "base_uri": "https://localhost:8080/"
        },
        "id": "RSWnG_oV6Fml",
        "outputId": "06d4e80f-c67e-4ce9-b223-39adf608abc5"
      },
      "execution_count": null,
      "outputs": [
        {
          "output_type": "execute_result",
          "data": {
            "text/plain": [
              "300"
            ]
          },
          "metadata": {},
          "execution_count": 15
        }
      ]
    },
    {
      "cell_type": "code",
      "source": [
        "vec = model['king'] - model['man'] + model['woman']\n",
        "model.most_similar([vec])"
      ],
      "metadata": {
        "colab": {
          "base_uri": "https://localhost:8080/"
        },
        "id": "YKlqx32Y7Zkh",
        "outputId": "0a26b30a-db1d-4cff-c7db-05fb0e424048"
      },
      "execution_count": null,
      "outputs": [
        {
          "output_type": "execute_result",
          "data": {
            "text/plain": [
              "[('king', 0.8449392318725586),\n",
              " ('queen', 0.7300517559051514),\n",
              " ('monarch', 0.645466148853302),\n",
              " ('princess', 0.6156251430511475),\n",
              " ('crown_prince', 0.5818676352500916),\n",
              " ('prince', 0.5777117609977722),\n",
              " ('kings', 0.5613663792610168),\n",
              " ('sultan', 0.5376775860786438),\n",
              " ('queens', 0.5289887189865112),\n",
              " ('ruler', 0.5247419476509094)]"
            ]
          },
          "metadata": {},
          "execution_count": 17
        }
      ]
    },
    {
      "cell_type": "code",
      "source": [
        "vec = model['Germany'] - model['Berlin'] + model['Paris']\n",
        "model.most_similar([vec])"
      ],
      "metadata": {
        "colab": {
          "base_uri": "https://localhost:8080/"
        },
        "id": "TDEU2Kqg71Ah",
        "outputId": "fb512673-a9b0-4b03-8070-17e51577a1dc"
      },
      "execution_count": null,
      "outputs": [
        {
          "output_type": "execute_result",
          "data": {
            "text/plain": [
              "[('France', 0.7724406123161316),\n",
              " ('Paris', 0.6798243522644043),\n",
              " ('Belgium', 0.598486065864563),\n",
              " ('Germany', 0.5652832388877869),\n",
              " ('Spain', 0.550815761089325),\n",
              " ('Italy', 0.5462924838066101),\n",
              " ('Marseille', 0.5372346639633179),\n",
              " ('Switzerland', 0.5364957451820374),\n",
              " ('French', 0.5346113443374634),\n",
              " ('Morocco', 0.5051252841949463)]"
            ]
          },
          "metadata": {},
          "execution_count": 19
        }
      ]
    },
    {
      "cell_type": "code",
      "source": [
        "vec = model['Messi'] - model['Football'] + model['Cricket']\n",
        "model.most_similar([vec])"
      ],
      "metadata": {
        "colab": {
          "base_uri": "https://localhost:8080/"
        },
        "id": "07KHbaJ371DR",
        "outputId": "2df8f85c-76c6-4d24-9874-0cd62f4d58a5"
      },
      "execution_count": null,
      "outputs": [
        {
          "output_type": "execute_result",
          "data": {
            "text/plain": [
              "[('Messi', 0.7382575273513794),\n",
              " ('Sehwag', 0.6777455806732178),\n",
              " ('Tendulkar', 0.6748222708702087),\n",
              " ('Xavi', 0.6610832810401917),\n",
              " ('Dravid', 0.6569646596908569),\n",
              " ('Dhoni', 0.6550688743591309),\n",
              " ('Lionel_Messi', 0.6407608389854431),\n",
              " ('Forlan', 0.640610933303833),\n",
              " ('Yuvraj', 0.6390379667282104),\n",
              " ('Ponting', 0.6390198469161987)]"
            ]
          },
          "metadata": {},
          "execution_count": 20
        }
      ]
    }
  ]
}